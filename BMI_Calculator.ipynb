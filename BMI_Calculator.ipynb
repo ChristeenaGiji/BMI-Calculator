{
  "nbformat": 4,
  "nbformat_minor": 0,
  "metadata": {
    "colab": {
      "provenance": [],
      "authorship_tag": "ABX9TyN299fMWoQLYQyNYUC97Z4Y",
      "include_colab_link": true
    },
    "kernelspec": {
      "name": "python3",
      "display_name": "Python 3"
    },
    "language_info": {
      "name": "python"
    }
  },
  "cells": [
    {
      "cell_type": "markdown",
      "metadata": {
        "id": "view-in-github",
        "colab_type": "text"
      },
      "source": [
        "<a href=\"https://colab.research.google.com/github/ChristeenaGiji/BMI-Calculator/blob/main/BMI_Calculator.ipynb\" target=\"_parent\"><img src=\"https://colab.research.google.com/assets/colab-badge.svg\" alt=\"Open In Colab\"/></a>"
      ]
    },
    {
      "cell_type": "code",
      "execution_count": 1,
      "metadata": {
        "colab": {
          "base_uri": "https://localhost:8080/"
        },
        "id": "drnFCyPr65xZ",
        "outputId": "fea52742-681f-4737-8304-45c24c438f41"
      },
      "outputs": [
        {
          "output_type": "stream",
          "name": "stdout",
          "text": [
            "Enter you name: Christeena\n",
            "Enter your weight in pounds: 170\n",
            "Enter your height in inches: 69\n",
            "25.101869355177485\n",
            "Christeena, you are overweight. You need to exercise more and stop sitting and writing so many python tutorials.\n"
          ]
        }
      ],
      "source": [
        "name = input(\"Enter you name: \")\n",
        "\n",
        "weight = int(input(\"Enter your weight in pounds: \"))\n",
        "\n",
        "height = int(input(\"Enter your height in inches: \"))\n",
        "\n",
        "BMI = (weight * 703) / (height * height)\n",
        "\n",
        "print(BMI)\n",
        "\n",
        "if BMI>0:\n",
        "    if(BMI<18.5):\n",
        "        print(name +\", you are underwight.\")\n",
        "    elif (BMI<=24.9):\n",
        "        print(name +\", you are normal weight.\")\n",
        "    elif (BMI<29.9):\n",
        "        print(name +\", you are overweight. You need to exercise more and stop sitting and writing so many python tutorials.\")\n",
        "    elif (BMI<34.9):\n",
        "        print(name +\", you are obese.\")\n",
        "    elif (BMI<39.9):\n",
        "        print(name +\", you are severely obese.\")\n",
        "    else:\n",
        "        print(name +\", you are morbidly obese.\")\n",
        "else:\n",
        "    print(\"Enter valid input\")"
      ]
    },
    {
      "cell_type": "code",
      "source": [],
      "metadata": {
        "id": "EKWYNyn1699g"
      },
      "execution_count": null,
      "outputs": []
    }
  ]
}